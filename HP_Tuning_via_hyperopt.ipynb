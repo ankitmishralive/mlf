{
 "cells": [
  {
   "cell_type": "markdown",
   "metadata": {},
   "source": [
    "### HyperOpt "
   ]
  },
  {
   "cell_type": "code",
   "execution_count": 1,
   "metadata": {},
   "outputs": [],
   "source": [
    "import numpy as np\n",
    "from hyperopt import fmin, tpe, hp, Trials, STATUS_OK\n",
    "from sklearn.ensemble import RandomForestClassifier\n",
    "from sklearn.datasets import load_iris\n",
    "from sklearn.model_selection import cross_val_score\n",
    "import pandas as pd\n",
    "import mlflow\n",
    "from sklearn.preprocessing import StandardScaler, LabelEncoder\n",
    "from sklearn.model_selection import train_test_split\n",
    "from sklearn import set_config\n",
    "from sklearn.metrics import accuracy_score"
   ]
  },
  {
   "cell_type": "code",
   "execution_count": 2,
   "metadata": {},
   "outputs": [],
   "source": [
    "X,y = load_iris(return_X_y=True,as_frame=True)"
   ]
  },
  {
   "cell_type": "code",
   "execution_count": 3,
   "metadata": {},
   "outputs": [
    {
     "data": {
      "text/html": [
       "<div>\n",
       "<style scoped>\n",
       "    .dataframe tbody tr th:only-of-type {\n",
       "        vertical-align: middle;\n",
       "    }\n",
       "\n",
       "    .dataframe tbody tr th {\n",
       "        vertical-align: top;\n",
       "    }\n",
       "\n",
       "    .dataframe thead th {\n",
       "        text-align: right;\n",
       "    }\n",
       "</style>\n",
       "<table border=\"1\" class=\"dataframe\">\n",
       "  <thead>\n",
       "    <tr style=\"text-align: right;\">\n",
       "      <th></th>\n",
       "      <th>sepal length (cm)</th>\n",
       "      <th>sepal width (cm)</th>\n",
       "      <th>petal length (cm)</th>\n",
       "      <th>petal width (cm)</th>\n",
       "    </tr>\n",
       "  </thead>\n",
       "  <tbody>\n",
       "    <tr>\n",
       "      <th>0</th>\n",
       "      <td>5.1</td>\n",
       "      <td>3.5</td>\n",
       "      <td>1.4</td>\n",
       "      <td>0.2</td>\n",
       "    </tr>\n",
       "    <tr>\n",
       "      <th>1</th>\n",
       "      <td>4.9</td>\n",
       "      <td>3.0</td>\n",
       "      <td>1.4</td>\n",
       "      <td>0.2</td>\n",
       "    </tr>\n",
       "    <tr>\n",
       "      <th>2</th>\n",
       "      <td>4.7</td>\n",
       "      <td>3.2</td>\n",
       "      <td>1.3</td>\n",
       "      <td>0.2</td>\n",
       "    </tr>\n",
       "    <tr>\n",
       "      <th>3</th>\n",
       "      <td>4.6</td>\n",
       "      <td>3.1</td>\n",
       "      <td>1.5</td>\n",
       "      <td>0.2</td>\n",
       "    </tr>\n",
       "    <tr>\n",
       "      <th>4</th>\n",
       "      <td>5.0</td>\n",
       "      <td>3.6</td>\n",
       "      <td>1.4</td>\n",
       "      <td>0.2</td>\n",
       "    </tr>\n",
       "    <tr>\n",
       "      <th>...</th>\n",
       "      <td>...</td>\n",
       "      <td>...</td>\n",
       "      <td>...</td>\n",
       "      <td>...</td>\n",
       "    </tr>\n",
       "    <tr>\n",
       "      <th>145</th>\n",
       "      <td>6.7</td>\n",
       "      <td>3.0</td>\n",
       "      <td>5.2</td>\n",
       "      <td>2.3</td>\n",
       "    </tr>\n",
       "    <tr>\n",
       "      <th>146</th>\n",
       "      <td>6.3</td>\n",
       "      <td>2.5</td>\n",
       "      <td>5.0</td>\n",
       "      <td>1.9</td>\n",
       "    </tr>\n",
       "    <tr>\n",
       "      <th>147</th>\n",
       "      <td>6.5</td>\n",
       "      <td>3.0</td>\n",
       "      <td>5.2</td>\n",
       "      <td>2.0</td>\n",
       "    </tr>\n",
       "    <tr>\n",
       "      <th>148</th>\n",
       "      <td>6.2</td>\n",
       "      <td>3.4</td>\n",
       "      <td>5.4</td>\n",
       "      <td>2.3</td>\n",
       "    </tr>\n",
       "    <tr>\n",
       "      <th>149</th>\n",
       "      <td>5.9</td>\n",
       "      <td>3.0</td>\n",
       "      <td>5.1</td>\n",
       "      <td>1.8</td>\n",
       "    </tr>\n",
       "  </tbody>\n",
       "</table>\n",
       "<p>150 rows × 4 columns</p>\n",
       "</div>"
      ],
      "text/plain": [
       "     sepal length (cm)  sepal width (cm)  petal length (cm)  petal width (cm)\n",
       "0                  5.1               3.5                1.4               0.2\n",
       "1                  4.9               3.0                1.4               0.2\n",
       "2                  4.7               3.2                1.3               0.2\n",
       "3                  4.6               3.1                1.5               0.2\n",
       "4                  5.0               3.6                1.4               0.2\n",
       "..                 ...               ...                ...               ...\n",
       "145                6.7               3.0                5.2               2.3\n",
       "146                6.3               2.5                5.0               1.9\n",
       "147                6.5               3.0                5.2               2.0\n",
       "148                6.2               3.4                5.4               2.3\n",
       "149                5.9               3.0                5.1               1.8\n",
       "\n",
       "[150 rows x 4 columns]"
      ]
     },
     "execution_count": 3,
     "metadata": {},
     "output_type": "execute_result"
    }
   ],
   "source": [
    "X"
   ]
  },
  {
   "cell_type": "code",
   "execution_count": 4,
   "metadata": {},
   "outputs": [
    {
     "data": {
      "text/plain": [
       "0      0\n",
       "1      0\n",
       "2      0\n",
       "3      0\n",
       "4      0\n",
       "      ..\n",
       "145    2\n",
       "146    2\n",
       "147    2\n",
       "148    2\n",
       "149    2\n",
       "Name: target, Length: 150, dtype: int64"
      ]
     },
     "execution_count": 4,
     "metadata": {},
     "output_type": "execute_result"
    }
   ],
   "source": [
    "y"
   ]
  },
  {
   "cell_type": "code",
   "execution_count": 5,
   "metadata": {},
   "outputs": [],
   "source": [
    "set_config(transform_output='pandas')"
   ]
  },
  {
   "cell_type": "code",
   "execution_count": 6,
   "metadata": {},
   "outputs": [
    {
     "name": "stdout",
     "output_type": "stream",
     "text": [
      "The shape of the train data is (120, 4)\n",
      "The shape of the test data is  (30, 4)\n"
     ]
    }
   ],
   "source": [
    "random_state = 42\n",
    "test_size = 0.2\n",
    "\n",
    "X_train, X_test, y_train, y_test = train_test_split(X,y,test_size=test_size,random_state=random_state)\n",
    "\n",
    "print('The shape of the train data is',X_train.shape) \n",
    "print('The shape of the test data is ',X_test.shape)"
   ]
  },
  {
   "cell_type": "code",
   "execution_count": 7,
   "metadata": {},
   "outputs": [],
   "source": [
    "scaler = StandardScaler()\n",
    "\n",
    "label_encoder = LabelEncoder()\n",
    "\n",
    "# fit_transform on the train data\n",
    "X_train_trans = scaler.fit_transform(X_train)\n",
    "y_train = label_encoder.fit_transform(y_train)\n",
    "\n",
    "# transform on the test data\n",
    "X_test_trans = scaler.transform(X_test)\n",
    "y_test = label_encoder.transform(y_test)"
   ]
  },
  {
   "cell_type": "code",
   "execution_count": 8,
   "metadata": {},
   "outputs": [
    {
     "data": {
      "text/html": [
       "<div>\n",
       "<style scoped>\n",
       "    .dataframe tbody tr th:only-of-type {\n",
       "        vertical-align: middle;\n",
       "    }\n",
       "\n",
       "    .dataframe tbody tr th {\n",
       "        vertical-align: top;\n",
       "    }\n",
       "\n",
       "    .dataframe thead th {\n",
       "        text-align: right;\n",
       "    }\n",
       "</style>\n",
       "<table border=\"1\" class=\"dataframe\">\n",
       "  <thead>\n",
       "    <tr style=\"text-align: right;\">\n",
       "      <th></th>\n",
       "      <th>sepal length (cm)</th>\n",
       "      <th>sepal width (cm)</th>\n",
       "      <th>petal length (cm)</th>\n",
       "      <th>petal width (cm)</th>\n",
       "    </tr>\n",
       "  </thead>\n",
       "  <tbody>\n",
       "    <tr>\n",
       "      <th>22</th>\n",
       "      <td>-1.473937</td>\n",
       "      <td>1.203658</td>\n",
       "      <td>-1.562535</td>\n",
       "      <td>-1.312603</td>\n",
       "    </tr>\n",
       "    <tr>\n",
       "      <th>15</th>\n",
       "      <td>-0.133071</td>\n",
       "      <td>2.992376</td>\n",
       "      <td>-1.276006</td>\n",
       "      <td>-1.045633</td>\n",
       "    </tr>\n",
       "    <tr>\n",
       "      <th>65</th>\n",
       "      <td>1.085898</td>\n",
       "      <td>0.085709</td>\n",
       "      <td>0.385858</td>\n",
       "      <td>0.289218</td>\n",
       "    </tr>\n",
       "    <tr>\n",
       "      <th>11</th>\n",
       "      <td>-1.230143</td>\n",
       "      <td>0.756479</td>\n",
       "      <td>-1.218701</td>\n",
       "      <td>-1.312603</td>\n",
       "    </tr>\n",
       "    <tr>\n",
       "      <th>42</th>\n",
       "      <td>-1.717731</td>\n",
       "      <td>0.309299</td>\n",
       "      <td>-1.390618</td>\n",
       "      <td>-1.312603</td>\n",
       "    </tr>\n",
       "    <tr>\n",
       "      <th>...</th>\n",
       "      <td>...</td>\n",
       "      <td>...</td>\n",
       "      <td>...</td>\n",
       "      <td>...</td>\n",
       "    </tr>\n",
       "    <tr>\n",
       "      <th>71</th>\n",
       "      <td>0.354517</td>\n",
       "      <td>-0.585060</td>\n",
       "      <td>0.156636</td>\n",
       "      <td>0.155733</td>\n",
       "    </tr>\n",
       "    <tr>\n",
       "      <th>106</th>\n",
       "      <td>-1.108246</td>\n",
       "      <td>-1.255829</td>\n",
       "      <td>0.443164</td>\n",
       "      <td>0.689673</td>\n",
       "    </tr>\n",
       "    <tr>\n",
       "      <th>14</th>\n",
       "      <td>-0.011174</td>\n",
       "      <td>2.098017</td>\n",
       "      <td>-1.447923</td>\n",
       "      <td>-1.312603</td>\n",
       "    </tr>\n",
       "    <tr>\n",
       "      <th>92</th>\n",
       "      <td>-0.011174</td>\n",
       "      <td>-1.032239</td>\n",
       "      <td>0.156636</td>\n",
       "      <td>0.022248</td>\n",
       "    </tr>\n",
       "    <tr>\n",
       "      <th>102</th>\n",
       "      <td>1.573486</td>\n",
       "      <td>-0.137880</td>\n",
       "      <td>1.245443</td>\n",
       "      <td>1.223613</td>\n",
       "    </tr>\n",
       "  </tbody>\n",
       "</table>\n",
       "<p>120 rows × 4 columns</p>\n",
       "</div>"
      ],
      "text/plain": [
       "     sepal length (cm)  sepal width (cm)  petal length (cm)  petal width (cm)\n",
       "22           -1.473937          1.203658          -1.562535         -1.312603\n",
       "15           -0.133071          2.992376          -1.276006         -1.045633\n",
       "65            1.085898          0.085709           0.385858          0.289218\n",
       "11           -1.230143          0.756479          -1.218701         -1.312603\n",
       "42           -1.717731          0.309299          -1.390618         -1.312603\n",
       "..                 ...               ...                ...               ...\n",
       "71            0.354517         -0.585060           0.156636          0.155733\n",
       "106          -1.108246         -1.255829           0.443164          0.689673\n",
       "14           -0.011174          2.098017          -1.447923         -1.312603\n",
       "92           -0.011174         -1.032239           0.156636          0.022248\n",
       "102           1.573486         -0.137880           1.245443          1.223613\n",
       "\n",
       "[120 rows x 4 columns]"
      ]
     },
     "execution_count": 8,
     "metadata": {},
     "output_type": "execute_result"
    }
   ],
   "source": [
    "X_train_trans"
   ]
  },
  {
   "cell_type": "code",
   "execution_count": 9,
   "metadata": {},
   "outputs": [],
   "source": [
    "# define the objective function\n",
    "\n",
    "def objective(params):\n",
    "    with mlflow.start_run(nested=True) as parent:\n",
    "        # log the current run parameters\n",
    "        mlflow.log_params(params)\n",
    "        # give the parameters as integers\n",
    "        max_depth = int(params['max_depth'])\n",
    "        n_estimators = int(params['n_estimators'])\n",
    "        # train the model\n",
    "        model = RandomForestClassifier(n_estimators=n_estimators,max_depth=max_depth)\n",
    "        model.fit(X_train_trans,y_train)\n",
    "        # get the accuracy score\n",
    "        y_pred = model.predict(X_test_trans)\n",
    "        # log the score\n",
    "        accuracy = accuracy_score(y_test,y_pred)\n",
    "        mlflow.log_metric('accuracy_score',accuracy)\n",
    "    return {'loss': -accuracy, 'status': STATUS_OK}"
   ]
  },
  {
   "cell_type": "code",
   "execution_count": 10,
   "metadata": {},
   "outputs": [],
   "source": [
    "# define the search space\n",
    "\n",
    "space = {\n",
    "    'n_estimators': hp.quniform('n_estimators', 50, 200, 10),\n",
    "    'max_depth': hp.quniform('max_depth', 5, 20, 1),\n",
    "    'criterion': hp.choice('criterion',['gini','entropy'])\n",
    "\n",
    "}"
   ]
  },
  {
   "cell_type": "code",
   "execution_count": null,
   "metadata": {},
   "outputs": [],
   "source": []
  },
  {
   "cell_type": "code",
   "execution_count": 11,
   "metadata": {},
   "outputs": [
    {
     "name": "stderr",
     "output_type": "stream",
     "text": [
      "2024/08/19 21:47:13 INFO mlflow.tracking.fluent: Experiment with name 'HP Tuning Hyperopt' does not exist. Creating a new experiment.\n"
     ]
    },
    {
     "name": "stdout",
     "output_type": "stream",
     "text": [
      "  0%|          | 0/50 [00:00<?, ?trial/s, best loss=?]"
     ]
    },
    {
     "name": "stderr",
     "output_type": "stream",
     "text": [
      "2024/08/19 21:47:13 INFO mlflow.tracking._tracking_service.client: 🏃 View run dashing-newt-320 at: http://127.0.0.1:8000/#/experiments/662774129441046647/runs/d2b1c92682ba424f9b374de7e301f7c9.\n",
      "\n",
      "2024/08/19 21:47:13 INFO mlflow.tracking._tracking_service.client: 🧪 View experiment at: http://127.0.0.1:8000/#/experiments/662774129441046647.\n",
      "\n"
     ]
    },
    {
     "name": "stdout",
     "output_type": "stream",
     "text": [
      "  2%|▏         | 1/50 [00:00<00:06,  7.52trial/s, best loss: -1.0]"
     ]
    },
    {
     "name": "stderr",
     "output_type": "stream",
     "text": [
      "2024/08/19 21:47:13 INFO mlflow.tracking._tracking_service.client: 🏃 View run capable-steed-971 at: http://127.0.0.1:8000/#/experiments/662774129441046647/runs/c24500df067d4c779529c3a0ce25851f.\n",
      "\n",
      "2024/08/19 21:47:13 INFO mlflow.tracking._tracking_service.client: 🧪 View experiment at: http://127.0.0.1:8000/#/experiments/662774129441046647.\n",
      "\n"
     ]
    },
    {
     "name": "stdout",
     "output_type": "stream",
     "text": [
      "  4%|▍         | 2/50 [00:00<00:07,  6.23trial/s, best loss: -1.0]"
     ]
    },
    {
     "name": "stderr",
     "output_type": "stream",
     "text": [
      "2024/08/19 21:47:14 INFO mlflow.tracking._tracking_service.client: 🏃 View run legendary-mouse-748 at: http://127.0.0.1:8000/#/experiments/662774129441046647/runs/d79844361ed44a12ab53b9e4e8875afd.\n",
      "\n",
      "2024/08/19 21:47:14 INFO mlflow.tracking._tracking_service.client: 🧪 View experiment at: http://127.0.0.1:8000/#/experiments/662774129441046647.\n",
      "\n"
     ]
    },
    {
     "name": "stdout",
     "output_type": "stream",
     "text": [
      "  6%|▌         | 3/50 [00:00<00:07,  6.45trial/s, best loss: -1.0]"
     ]
    },
    {
     "name": "stderr",
     "output_type": "stream",
     "text": [
      "2024/08/19 21:47:14 INFO mlflow.tracking._tracking_service.client: 🏃 View run big-ray-982 at: http://127.0.0.1:8000/#/experiments/662774129441046647/runs/3ba75601cd6b43d7909a424824a92fbf.\n",
      "\n",
      "2024/08/19 21:47:14 INFO mlflow.tracking._tracking_service.client: 🧪 View experiment at: http://127.0.0.1:8000/#/experiments/662774129441046647.\n",
      "\n"
     ]
    },
    {
     "name": "stdout",
     "output_type": "stream",
     "text": [
      "  8%|▊         | 4/50 [00:00<00:08,  5.60trial/s, best loss: -1.0]"
     ]
    },
    {
     "name": "stderr",
     "output_type": "stream",
     "text": [
      "2024/08/19 21:47:14 INFO mlflow.tracking._tracking_service.client: 🏃 View run delightful-hen-443 at: http://127.0.0.1:8000/#/experiments/662774129441046647/runs/3290b3966134405f97449b6ad3d9d6b3.\n",
      "\n",
      "2024/08/19 21:47:14 INFO mlflow.tracking._tracking_service.client: 🧪 View experiment at: http://127.0.0.1:8000/#/experiments/662774129441046647.\n",
      "\n",
      "2024/08/19 21:47:14 INFO mlflow.tracking._tracking_service.client: 🏃 View run unequaled-calf-178 at: http://127.0.0.1:8000/#/experiments/662774129441046647/runs/5cacbe19865840a9bab12363e52b90c4.\n",
      "\n",
      "2024/08/19 21:47:14 INFO mlflow.tracking._tracking_service.client: 🧪 View experiment at: http://127.0.0.1:8000/#/experiments/662774129441046647.\n",
      "\n"
     ]
    },
    {
     "name": "stdout",
     "output_type": "stream",
     "text": [
      " 12%|█▏        | 6/50 [00:00<00:06,  6.52trial/s, best loss: -1.0]"
     ]
    },
    {
     "name": "stderr",
     "output_type": "stream",
     "text": [
      "2024/08/19 21:47:14 INFO mlflow.tracking._tracking_service.client: 🏃 View run adaptable-newt-877 at: http://127.0.0.1:8000/#/experiments/662774129441046647/runs/25a2aed69052438c986f1e83d5a1ea1c.\n",
      "\n",
      "2024/08/19 21:47:14 INFO mlflow.tracking._tracking_service.client: 🧪 View experiment at: http://127.0.0.1:8000/#/experiments/662774129441046647.\n",
      "\n"
     ]
    },
    {
     "name": "stdout",
     "output_type": "stream",
     "text": [
      " 14%|█▍        | 7/50 [00:01<00:06,  6.85trial/s, best loss: -1.0]"
     ]
    },
    {
     "name": "stderr",
     "output_type": "stream",
     "text": [
      "2024/08/19 21:47:14 INFO mlflow.tracking._tracking_service.client: 🏃 View run calm-dolphin-304 at: http://127.0.0.1:8000/#/experiments/662774129441046647/runs/d7c3dd0b85b74e5dbc49ace772f1273e.\n",
      "\n",
      "2024/08/19 21:47:14 INFO mlflow.tracking._tracking_service.client: 🧪 View experiment at: http://127.0.0.1:8000/#/experiments/662774129441046647.\n",
      "\n"
     ]
    },
    {
     "name": "stdout",
     "output_type": "stream",
     "text": [
      " 16%|█▌        | 8/50 [00:01<00:05,  7.24trial/s, best loss: -1.0]"
     ]
    },
    {
     "name": "stderr",
     "output_type": "stream",
     "text": [
      "2024/08/19 21:47:14 INFO mlflow.tracking._tracking_service.client: 🏃 View run charming-gnu-136 at: http://127.0.0.1:8000/#/experiments/662774129441046647/runs/98e1d443b08f48a38e914fa48b75ca5e.\n",
      "\n",
      "2024/08/19 21:47:14 INFO mlflow.tracking._tracking_service.client: 🧪 View experiment at: http://127.0.0.1:8000/#/experiments/662774129441046647.\n",
      "\n"
     ]
    },
    {
     "name": "stdout",
     "output_type": "stream",
     "text": [
      " 18%|█▊        | 9/50 [00:01<00:05,  7.17trial/s, best loss: -1.0]"
     ]
    },
    {
     "name": "stderr",
     "output_type": "stream",
     "text": [
      "2024/08/19 21:47:15 INFO mlflow.tracking._tracking_service.client: 🏃 View run carefree-stag-410 at: http://127.0.0.1:8000/#/experiments/662774129441046647/runs/35bdf16be4634b348ee683ae55dcc2f7.\n",
      "\n",
      "2024/08/19 21:47:15 INFO mlflow.tracking._tracking_service.client: 🧪 View experiment at: http://127.0.0.1:8000/#/experiments/662774129441046647.\n",
      "\n"
     ]
    },
    {
     "name": "stdout",
     "output_type": "stream",
     "text": [
      " 20%|██        | 10/50 [00:01<00:05,  7.05trial/s, best loss: -1.0]"
     ]
    },
    {
     "name": "stderr",
     "output_type": "stream",
     "text": [
      "2024/08/19 21:47:15 INFO mlflow.tracking._tracking_service.client: 🏃 View run gregarious-dove-279 at: http://127.0.0.1:8000/#/experiments/662774129441046647/runs/f34a625039d84f1ab5e8ebe748585201.\n",
      "\n",
      "2024/08/19 21:47:15 INFO mlflow.tracking._tracking_service.client: 🧪 View experiment at: http://127.0.0.1:8000/#/experiments/662774129441046647.\n",
      "\n"
     ]
    },
    {
     "name": "stdout",
     "output_type": "stream",
     "text": [
      " 22%|██▏       | 11/50 [00:01<00:06,  6.40trial/s, best loss: -1.0]"
     ]
    },
    {
     "name": "stderr",
     "output_type": "stream",
     "text": [
      "2024/08/19 21:47:15 INFO mlflow.tracking._tracking_service.client: 🏃 View run nervous-dolphin-620 at: http://127.0.0.1:8000/#/experiments/662774129441046647/runs/de90633dc5fd46eba4c634e7d66921f1.\n",
      "\n",
      "2024/08/19 21:47:15 INFO mlflow.tracking._tracking_service.client: 🧪 View experiment at: http://127.0.0.1:8000/#/experiments/662774129441046647.\n",
      "\n"
     ]
    },
    {
     "name": "stdout",
     "output_type": "stream",
     "text": [
      " 24%|██▍       | 12/50 [00:01<00:06,  6.19trial/s, best loss: -1.0]"
     ]
    },
    {
     "name": "stderr",
     "output_type": "stream",
     "text": [
      "2024/08/19 21:47:15 INFO mlflow.tracking._tracking_service.client: 🏃 View run masked-gnu-623 at: http://127.0.0.1:8000/#/experiments/662774129441046647/runs/76ee6d65836040eeaf0f31df635d0cea.\n",
      "\n",
      "2024/08/19 21:47:15 INFO mlflow.tracking._tracking_service.client: 🧪 View experiment at: http://127.0.0.1:8000/#/experiments/662774129441046647.\n",
      "\n"
     ]
    },
    {
     "name": "stdout",
     "output_type": "stream",
     "text": [
      " 26%|██▌       | 13/50 [00:01<00:05,  6.68trial/s, best loss: -1.0]"
     ]
    },
    {
     "name": "stderr",
     "output_type": "stream",
     "text": [
      "2024/08/19 21:47:15 INFO mlflow.tracking._tracking_service.client: 🏃 View run merciful-koi-521 at: http://127.0.0.1:8000/#/experiments/662774129441046647/runs/ce30ab72db954b8b9f8b6ab089121cae.\n",
      "\n",
      "2024/08/19 21:47:15 INFO mlflow.tracking._tracking_service.client: 🧪 View experiment at: http://127.0.0.1:8000/#/experiments/662774129441046647.\n",
      "\n"
     ]
    },
    {
     "name": "stdout",
     "output_type": "stream",
     "text": [
      " 28%|██▊       | 14/50 [00:02<00:05,  6.36trial/s, best loss: -1.0]"
     ]
    },
    {
     "name": "stderr",
     "output_type": "stream",
     "text": [
      "2024/08/19 21:47:15 INFO mlflow.tracking._tracking_service.client: 🏃 View run adorable-fawn-576 at: http://127.0.0.1:8000/#/experiments/662774129441046647/runs/508752f14769427c8affcb19bb0927f9.\n",
      "\n",
      "2024/08/19 21:47:15 INFO mlflow.tracking._tracking_service.client: 🧪 View experiment at: http://127.0.0.1:8000/#/experiments/662774129441046647.\n",
      "\n"
     ]
    },
    {
     "name": "stdout",
     "output_type": "stream",
     "text": [
      " 30%|███       | 15/50 [00:02<00:05,  6.00trial/s, best loss: -1.0]"
     ]
    },
    {
     "name": "stderr",
     "output_type": "stream",
     "text": [
      "2024/08/19 21:47:16 INFO mlflow.tracking._tracking_service.client: 🏃 View run incongruous-fowl-271 at: http://127.0.0.1:8000/#/experiments/662774129441046647/runs/bcdcbdcbf00046a2943e2f4c71c145be.\n",
      "\n",
      "2024/08/19 21:47:16 INFO mlflow.tracking._tracking_service.client: 🧪 View experiment at: http://127.0.0.1:8000/#/experiments/662774129441046647.\n",
      "\n"
     ]
    },
    {
     "name": "stdout",
     "output_type": "stream",
     "text": [
      " 32%|███▏      | 16/50 [00:02<00:06,  5.61trial/s, best loss: -1.0]"
     ]
    },
    {
     "name": "stderr",
     "output_type": "stream",
     "text": [
      "2024/08/19 21:47:16 INFO mlflow.tracking._tracking_service.client: 🏃 View run upbeat-lamb-883 at: http://127.0.0.1:8000/#/experiments/662774129441046647/runs/a0c6d6c6ca0149e3b072413519bdddac.\n",
      "\n",
      "2024/08/19 21:47:16 INFO mlflow.tracking._tracking_service.client: 🧪 View experiment at: http://127.0.0.1:8000/#/experiments/662774129441046647.\n",
      "\n"
     ]
    },
    {
     "name": "stdout",
     "output_type": "stream",
     "text": [
      " 34%|███▍      | 17/50 [00:02<00:05,  5.67trial/s, best loss: -1.0]"
     ]
    },
    {
     "name": "stderr",
     "output_type": "stream",
     "text": [
      "2024/08/19 21:47:16 INFO mlflow.tracking._tracking_service.client: 🏃 View run able-worm-922 at: http://127.0.0.1:8000/#/experiments/662774129441046647/runs/fcc6343b2900455cbc0db36056ba5ab9.\n",
      "\n",
      "2024/08/19 21:47:16 INFO mlflow.tracking._tracking_service.client: 🧪 View experiment at: http://127.0.0.1:8000/#/experiments/662774129441046647.\n",
      "\n"
     ]
    },
    {
     "name": "stdout",
     "output_type": "stream",
     "text": [
      " 36%|███▌      | 18/50 [00:02<00:05,  5.63trial/s, best loss: -1.0]"
     ]
    },
    {
     "name": "stderr",
     "output_type": "stream",
     "text": [
      "2024/08/19 21:47:16 INFO mlflow.tracking._tracking_service.client: 🏃 View run brawny-lamb-746 at: http://127.0.0.1:8000/#/experiments/662774129441046647/runs/f724c24fde1e4428802d14ef68ba2971.\n",
      "\n",
      "2024/08/19 21:47:16 INFO mlflow.tracking._tracking_service.client: 🧪 View experiment at: http://127.0.0.1:8000/#/experiments/662774129441046647.\n",
      "\n"
     ]
    },
    {
     "name": "stdout",
     "output_type": "stream",
     "text": [
      " 38%|███▊      | 19/50 [00:02<00:04,  6.35trial/s, best loss: -1.0]"
     ]
    },
    {
     "name": "stderr",
     "output_type": "stream",
     "text": [
      "2024/08/19 21:47:16 INFO mlflow.tracking._tracking_service.client: 🏃 View run suave-elk-394 at: http://127.0.0.1:8000/#/experiments/662774129441046647/runs/74fb7ed081634c238d75a40241c6a53a.\n",
      "\n",
      "2024/08/19 21:47:16 INFO mlflow.tracking._tracking_service.client: 🧪 View experiment at: http://127.0.0.1:8000/#/experiments/662774129441046647.\n",
      "\n",
      "2024/08/19 21:47:16 INFO mlflow.tracking._tracking_service.client: 🏃 View run sassy-slug-240 at: http://127.0.0.1:8000/#/experiments/662774129441046647/runs/63ef829d2c8748c7be0cfc6c10046955.\n",
      "\n",
      "2024/08/19 21:47:16 INFO mlflow.tracking._tracking_service.client: 🧪 View experiment at: http://127.0.0.1:8000/#/experiments/662774129441046647.\n",
      "\n"
     ]
    },
    {
     "name": "stdout",
     "output_type": "stream",
     "text": [
      " 42%|████▏     | 21/50 [00:03<00:04,  6.18trial/s, best loss: -1.0]"
     ]
    },
    {
     "name": "stderr",
     "output_type": "stream",
     "text": [
      "2024/08/19 21:47:16 INFO mlflow.tracking._tracking_service.client: 🏃 View run abrasive-bat-835 at: http://127.0.0.1:8000/#/experiments/662774129441046647/runs/bf19b6b1d5c8434eb2af6d01a6aa459a.\n",
      "\n",
      "2024/08/19 21:47:16 INFO mlflow.tracking._tracking_service.client: 🧪 View experiment at: http://127.0.0.1:8000/#/experiments/662774129441046647.\n",
      "\n",
      "2024/08/19 21:47:17 INFO mlflow.tracking._tracking_service.client: 🏃 View run colorful-shrew-13 at: http://127.0.0.1:8000/#/experiments/662774129441046647/runs/0303cd341897443fa91171281af8bf0d.\n",
      "\n",
      "2024/08/19 21:47:17 INFO mlflow.tracking._tracking_service.client: 🧪 View experiment at: http://127.0.0.1:8000/#/experiments/662774129441046647.\n",
      "\n"
     ]
    },
    {
     "name": "stdout",
     "output_type": "stream",
     "text": [
      " 46%|████▌     | 23/50 [00:03<00:03,  8.42trial/s, best loss: -1.0]"
     ]
    },
    {
     "name": "stderr",
     "output_type": "stream",
     "text": [
      "2024/08/19 21:47:17 INFO mlflow.tracking._tracking_service.client: 🏃 View run bald-croc-316 at: http://127.0.0.1:8000/#/experiments/662774129441046647/runs/b456d11b01424dd49c555bdc238da50b.\n",
      "\n",
      "2024/08/19 21:47:17 INFO mlflow.tracking._tracking_service.client: 🧪 View experiment at: http://127.0.0.1:8000/#/experiments/662774129441046647.\n",
      "\n",
      "2024/08/19 21:47:17 INFO mlflow.tracking._tracking_service.client: 🏃 View run serious-boar-466 at: http://127.0.0.1:8000/#/experiments/662774129441046647/runs/80ee671f061c43eeb3a485d19c869964.\n",
      "\n",
      "2024/08/19 21:47:17 INFO mlflow.tracking._tracking_service.client: 🧪 View experiment at: http://127.0.0.1:8000/#/experiments/662774129441046647.\n",
      "\n"
     ]
    },
    {
     "name": "stdout",
     "output_type": "stream",
     "text": [
      " 50%|█████     | 25/50 [00:03<00:02, 10.04trial/s, best loss: -1.0]"
     ]
    },
    {
     "name": "stderr",
     "output_type": "stream",
     "text": [
      "2024/08/19 21:47:17 INFO mlflow.tracking._tracking_service.client: 🏃 View run placid-snake-32 at: http://127.0.0.1:8000/#/experiments/662774129441046647/runs/e5491077c0f240c7b764f9710426fc21.\n",
      "\n",
      "2024/08/19 21:47:17 INFO mlflow.tracking._tracking_service.client: 🧪 View experiment at: http://127.0.0.1:8000/#/experiments/662774129441046647.\n",
      "\n",
      "2024/08/19 21:47:17 INFO mlflow.tracking._tracking_service.client: 🏃 View run treasured-ray-12 at: http://127.0.0.1:8000/#/experiments/662774129441046647/runs/34739aa9a1ec410488d5ecde9a755f7c.\n",
      "\n",
      "2024/08/19 21:47:17 INFO mlflow.tracking._tracking_service.client: 🧪 View experiment at: http://127.0.0.1:8000/#/experiments/662774129441046647.\n",
      "\n"
     ]
    },
    {
     "name": "stdout",
     "output_type": "stream",
     "text": [
      " 54%|█████▍    | 27/50 [00:03<00:01, 11.53trial/s, best loss: -1.0]"
     ]
    },
    {
     "name": "stderr",
     "output_type": "stream",
     "text": [
      "2024/08/19 21:47:17 INFO mlflow.tracking._tracking_service.client: 🏃 View run orderly-grub-269 at: http://127.0.0.1:8000/#/experiments/662774129441046647/runs/4bcfcc3055ed45df8e4165c6a554d32e.\n",
      "\n",
      "2024/08/19 21:47:17 INFO mlflow.tracking._tracking_service.client: 🧪 View experiment at: http://127.0.0.1:8000/#/experiments/662774129441046647.\n",
      "\n",
      "2024/08/19 21:47:17 INFO mlflow.tracking._tracking_service.client: 🏃 View run casual-yak-421 at: http://127.0.0.1:8000/#/experiments/662774129441046647/runs/5cb3d6ac56664b3c817ed075987378aa.\n",
      "\n",
      "2024/08/19 21:47:17 INFO mlflow.tracking._tracking_service.client: 🧪 View experiment at: http://127.0.0.1:8000/#/experiments/662774129441046647.\n",
      "\n"
     ]
    },
    {
     "name": "stdout",
     "output_type": "stream",
     "text": [
      " 58%|█████▊    | 29/50 [00:03<00:01, 11.97trial/s, best loss: -1.0]"
     ]
    },
    {
     "name": "stderr",
     "output_type": "stream",
     "text": [
      "2024/08/19 21:47:17 INFO mlflow.tracking._tracking_service.client: 🏃 View run respected-sow-928 at: http://127.0.0.1:8000/#/experiments/662774129441046647/runs/ea4fd1af294f45079ac5cbf5733e799f.\n",
      "\n",
      "2024/08/19 21:47:17 INFO mlflow.tracking._tracking_service.client: 🧪 View experiment at: http://127.0.0.1:8000/#/experiments/662774129441046647.\n",
      "\n",
      "2024/08/19 21:47:17 INFO mlflow.tracking._tracking_service.client: 🏃 View run big-fly-469 at: http://127.0.0.1:8000/#/experiments/662774129441046647/runs/963ec0cef5f9439c8a4f9ebda832e8c7.\n",
      "\n",
      "2024/08/19 21:47:17 INFO mlflow.tracking._tracking_service.client: 🧪 View experiment at: http://127.0.0.1:8000/#/experiments/662774129441046647.\n",
      "\n"
     ]
    },
    {
     "name": "stdout",
     "output_type": "stream",
     "text": [
      " 62%|██████▏   | 31/50 [00:03<00:01, 12.54trial/s, best loss: -1.0]"
     ]
    },
    {
     "name": "stderr",
     "output_type": "stream",
     "text": [
      "2024/08/19 21:47:17 INFO mlflow.tracking._tracking_service.client: 🏃 View run peaceful-eel-796 at: http://127.0.0.1:8000/#/experiments/662774129441046647/runs/08458027080b4ab78ae3fdff6ea00321.\n",
      "\n",
      "2024/08/19 21:47:17 INFO mlflow.tracking._tracking_service.client: 🧪 View experiment at: http://127.0.0.1:8000/#/experiments/662774129441046647.\n",
      "\n",
      "2024/08/19 21:47:17 INFO mlflow.tracking._tracking_service.client: 🏃 View run sedate-squid-902 at: http://127.0.0.1:8000/#/experiments/662774129441046647/runs/7464ab95f5c14d30995e6843fa369776.\n",
      "\n",
      "2024/08/19 21:47:17 INFO mlflow.tracking._tracking_service.client: 🧪 View experiment at: http://127.0.0.1:8000/#/experiments/662774129441046647.\n",
      "\n"
     ]
    },
    {
     "name": "stdout",
     "output_type": "stream",
     "text": [
      " 66%|██████▌   | 33/50 [00:04<00:01, 12.28trial/s, best loss: -1.0]"
     ]
    },
    {
     "name": "stderr",
     "output_type": "stream",
     "text": [
      "2024/08/19 21:47:17 INFO mlflow.tracking._tracking_service.client: 🏃 View run enthused-frog-873 at: http://127.0.0.1:8000/#/experiments/662774129441046647/runs/4b7b9da53c25440dac23f19b3a15370d.\n",
      "\n",
      "2024/08/19 21:47:17 INFO mlflow.tracking._tracking_service.client: 🧪 View experiment at: http://127.0.0.1:8000/#/experiments/662774129441046647.\n",
      "\n",
      "2024/08/19 21:47:17 INFO mlflow.tracking._tracking_service.client: 🏃 View run trusting-stork-382 at: http://127.0.0.1:8000/#/experiments/662774129441046647/runs/b78135c7bdb64c0092db845a6126c3ef.\n",
      "\n",
      "2024/08/19 21:47:17 INFO mlflow.tracking._tracking_service.client: 🧪 View experiment at: http://127.0.0.1:8000/#/experiments/662774129441046647.\n",
      "\n"
     ]
    },
    {
     "name": "stdout",
     "output_type": "stream",
     "text": [
      " 70%|███████   | 35/50 [00:04<00:01, 12.95trial/s, best loss: -1.0]"
     ]
    },
    {
     "name": "stderr",
     "output_type": "stream",
     "text": [
      "2024/08/19 21:47:17 INFO mlflow.tracking._tracking_service.client: 🏃 View run abundant-penguin-119 at: http://127.0.0.1:8000/#/experiments/662774129441046647/runs/1741a6043e5b4f229729b41e6369b6e4.\n",
      "\n",
      "2024/08/19 21:47:17 INFO mlflow.tracking._tracking_service.client: 🧪 View experiment at: http://127.0.0.1:8000/#/experiments/662774129441046647.\n",
      "\n",
      "2024/08/19 21:47:18 INFO mlflow.tracking._tracking_service.client: 🏃 View run lyrical-conch-196 at: http://127.0.0.1:8000/#/experiments/662774129441046647/runs/51a7c46411ab4fcba512c8db9996ed64.\n",
      "\n",
      "2024/08/19 21:47:18 INFO mlflow.tracking._tracking_service.client: 🧪 View experiment at: http://127.0.0.1:8000/#/experiments/662774129441046647.\n",
      "\n"
     ]
    },
    {
     "name": "stdout",
     "output_type": "stream",
     "text": [
      " 74%|███████▍  | 37/50 [00:04<00:01, 12.48trial/s, best loss: -1.0]"
     ]
    },
    {
     "name": "stderr",
     "output_type": "stream",
     "text": [
      "2024/08/19 21:47:18 INFO mlflow.tracking._tracking_service.client: 🏃 View run youthful-mole-745 at: http://127.0.0.1:8000/#/experiments/662774129441046647/runs/14bc13776601487e99de2f01cde77b69.\n",
      "\n",
      "2024/08/19 21:47:18 INFO mlflow.tracking._tracking_service.client: 🧪 View experiment at: http://127.0.0.1:8000/#/experiments/662774129441046647.\n",
      "\n",
      "2024/08/19 21:47:18 INFO mlflow.tracking._tracking_service.client: 🏃 View run dashing-fowl-215 at: http://127.0.0.1:8000/#/experiments/662774129441046647/runs/4c6f07cdc52b44bc9170b2562fbf4b27.\n",
      "\n",
      "2024/08/19 21:47:18 INFO mlflow.tracking._tracking_service.client: 🧪 View experiment at: http://127.0.0.1:8000/#/experiments/662774129441046647.\n",
      "\n"
     ]
    },
    {
     "name": "stdout",
     "output_type": "stream",
     "text": [
      " 78%|███████▊  | 39/50 [00:04<00:00, 11.80trial/s, best loss: -1.0]"
     ]
    },
    {
     "name": "stderr",
     "output_type": "stream",
     "text": [
      "2024/08/19 21:47:18 INFO mlflow.tracking._tracking_service.client: 🏃 View run ambitious-stag-165 at: http://127.0.0.1:8000/#/experiments/662774129441046647/runs/d49307dff36b44daa045a0b4f5f67a1d.\n",
      "\n",
      "2024/08/19 21:47:18 INFO mlflow.tracking._tracking_service.client: 🧪 View experiment at: http://127.0.0.1:8000/#/experiments/662774129441046647.\n",
      "\n",
      "2024/08/19 21:47:18 INFO mlflow.tracking._tracking_service.client: 🏃 View run tasteful-snipe-907 at: http://127.0.0.1:8000/#/experiments/662774129441046647/runs/94f394dd91a9476b853aa44b3f172b8b.\n",
      "\n",
      "2024/08/19 21:47:18 INFO mlflow.tracking._tracking_service.client: 🧪 View experiment at: http://127.0.0.1:8000/#/experiments/662774129441046647.\n",
      "\n"
     ]
    },
    {
     "name": "stdout",
     "output_type": "stream",
     "text": [
      " 82%|████████▏ | 41/50 [00:04<00:00, 13.06trial/s, best loss: -1.0]"
     ]
    },
    {
     "name": "stderr",
     "output_type": "stream",
     "text": [
      "2024/08/19 21:47:18 INFO mlflow.tracking._tracking_service.client: 🏃 View run bald-stoat-110 at: http://127.0.0.1:8000/#/experiments/662774129441046647/runs/b38a8cc2a2e84c67819ff3ec9946ec85.\n",
      "\n",
      "2024/08/19 21:47:18 INFO mlflow.tracking._tracking_service.client: 🧪 View experiment at: http://127.0.0.1:8000/#/experiments/662774129441046647.\n",
      "\n",
      "2024/08/19 21:47:18 INFO mlflow.tracking._tracking_service.client: 🏃 View run suave-koi-374 at: http://127.0.0.1:8000/#/experiments/662774129441046647/runs/6863e330503a4c5892a910d685f180ca.\n",
      "\n",
      "2024/08/19 21:47:18 INFO mlflow.tracking._tracking_service.client: 🧪 View experiment at: http://127.0.0.1:8000/#/experiments/662774129441046647.\n",
      "\n"
     ]
    },
    {
     "name": "stdout",
     "output_type": "stream",
     "text": [
      " 86%|████████▌ | 43/50 [00:04<00:00, 13.29trial/s, best loss: -1.0]"
     ]
    },
    {
     "name": "stderr",
     "output_type": "stream",
     "text": [
      "2024/08/19 21:47:18 INFO mlflow.tracking._tracking_service.client: 🏃 View run bold-ram-657 at: http://127.0.0.1:8000/#/experiments/662774129441046647/runs/d266c19aacc748fd8f53f75d1e67d506.\n",
      "\n",
      "2024/08/19 21:47:18 INFO mlflow.tracking._tracking_service.client: 🧪 View experiment at: http://127.0.0.1:8000/#/experiments/662774129441046647.\n",
      "\n",
      "2024/08/19 21:47:18 INFO mlflow.tracking._tracking_service.client: 🏃 View run secretive-boar-895 at: http://127.0.0.1:8000/#/experiments/662774129441046647/runs/78fbbb1137c54aec9fde306aca373b10.\n",
      "\n",
      "2024/08/19 21:47:18 INFO mlflow.tracking._tracking_service.client: 🧪 View experiment at: http://127.0.0.1:8000/#/experiments/662774129441046647.\n",
      "\n"
     ]
    },
    {
     "name": "stdout",
     "output_type": "stream",
     "text": [
      " 90%|█████████ | 45/50 [00:05<00:00, 13.50trial/s, best loss: -1.0]"
     ]
    },
    {
     "name": "stderr",
     "output_type": "stream",
     "text": [
      "2024/08/19 21:47:18 INFO mlflow.tracking._tracking_service.client: 🏃 View run unruly-ox-460 at: http://127.0.0.1:8000/#/experiments/662774129441046647/runs/7645c1be80734076b17a08e412410781.\n",
      "\n",
      "2024/08/19 21:47:18 INFO mlflow.tracking._tracking_service.client: 🧪 View experiment at: http://127.0.0.1:8000/#/experiments/662774129441046647.\n",
      "\n",
      "2024/08/19 21:47:18 INFO mlflow.tracking._tracking_service.client: 🏃 View run big-roo-262 at: http://127.0.0.1:8000/#/experiments/662774129441046647/runs/0ff206ebf6a74aa7a280bb1d7b6ca267.\n",
      "\n",
      "2024/08/19 21:47:18 INFO mlflow.tracking._tracking_service.client: 🧪 View experiment at: http://127.0.0.1:8000/#/experiments/662774129441046647.\n",
      "\n"
     ]
    },
    {
     "name": "stdout",
     "output_type": "stream",
     "text": [
      " 94%|█████████▍| 47/50 [00:05<00:00, 12.86trial/s, best loss: -1.0]"
     ]
    },
    {
     "name": "stderr",
     "output_type": "stream",
     "text": [
      "2024/08/19 21:47:18 INFO mlflow.tracking._tracking_service.client: 🏃 View run respected-frog-493 at: http://127.0.0.1:8000/#/experiments/662774129441046647/runs/399b046c96494cb7a6975550bdfacda4.\n",
      "\n",
      "2024/08/19 21:47:18 INFO mlflow.tracking._tracking_service.client: 🧪 View experiment at: http://127.0.0.1:8000/#/experiments/662774129441046647.\n",
      "\n",
      "2024/08/19 21:47:18 INFO mlflow.tracking._tracking_service.client: 🏃 View run capricious-conch-375 at: http://127.0.0.1:8000/#/experiments/662774129441046647/runs/492609ff4bfa4fd29f7ff9311a87c840.\n",
      "\n",
      "2024/08/19 21:47:18 INFO mlflow.tracking._tracking_service.client: 🧪 View experiment at: http://127.0.0.1:8000/#/experiments/662774129441046647.\n",
      "\n"
     ]
    },
    {
     "name": "stdout",
     "output_type": "stream",
     "text": [
      " 98%|█████████▊| 49/50 [00:05<00:00, 13.45trial/s, best loss: -1.0]"
     ]
    },
    {
     "name": "stderr",
     "output_type": "stream",
     "text": [
      "2024/08/19 21:47:19 INFO mlflow.tracking._tracking_service.client: 🏃 View run spiffy-lark-761 at: http://127.0.0.1:8000/#/experiments/662774129441046647/runs/2fb53dae000140b7a9cc51a9374d258e.\n",
      "\n",
      "2024/08/19 21:47:19 INFO mlflow.tracking._tracking_service.client: 🧪 View experiment at: http://127.0.0.1:8000/#/experiments/662774129441046647.\n",
      "\n"
     ]
    },
    {
     "name": "stdout",
     "output_type": "stream",
     "text": [
      "100%|██████████| 50/50 [00:05<00:00,  9.18trial/s, best loss: -1.0]"
     ]
    },
    {
     "name": "stderr",
     "output_type": "stream",
     "text": [
      "2024/08/19 21:47:19 INFO mlflow.tracking._tracking_service.client: 🏃 View run Main Run at: http://127.0.0.1:8000/#/experiments/662774129441046647/runs/c62e98398ac64286adf842597438c324.\n",
      "2024/08/19 21:47:19 INFO mlflow.tracking._tracking_service.client: 🧪 View experiment at: http://127.0.0.1:8000/#/experiments/662774129441046647.\n"
     ]
    },
    {
     "name": "stdout",
     "output_type": "stream",
     "text": [
      "\n"
     ]
    }
   ],
   "source": [
    "# set the tracking uri\n",
    "\n",
    "mlflow.set_tracking_uri(\"http://127.0.0.1:8000\")\n",
    "\n",
    "mlflow.set_experiment(\"HP Tuning Hyperopt\")\n",
    "\n",
    "with mlflow.start_run(run_name='Main Run'):\n",
    "    # set the fmin function\n",
    "    trials = Trials()\n",
    "    \n",
    "    best = fmin(fn=objective, \n",
    "                space=space, \n",
    "                algo=tpe.suggest, \n",
    "                max_evals=50, \n",
    "                trials=trials)"
   ]
  }
 ],
 "metadata": {
  "kernelspec": {
   "display_name": ".venv",
   "language": "python",
   "name": "python3"
  },
  "language_info": {
   "codemirror_mode": {
    "name": "ipython",
    "version": 3
   },
   "file_extension": ".py",
   "mimetype": "text/x-python",
   "name": "python",
   "nbconvert_exporter": "python",
   "pygments_lexer": "ipython3",
   "version": "3.10.12"
  }
 },
 "nbformat": 4,
 "nbformat_minor": 2
}
