{
 "cells": [
  {
   "cell_type": "markdown",
   "metadata": {},
   "source": [
    "\n",
    "\n",
    "## Hyperopt Components\n",
    "Hyperopt ke kuch main components hote hain:\n",
    "\n",
    "\n",
    "### Objective Function:\n",
    "Yeh ek function hota hai jo aapko minimize ya maximize karna hai.\n",
    "Example: objective(x) jisme aap x ki aisi value dhoondhna chahte hain jo objective function ka output minimize kare.\n",
    "\n",
    "### Search Space:\n",
    "Yeh batata hai ki aap kin possible values ko try kar sakte hain.\n",
    "Example: hp.uniform('x', -100, 100) batata hai ki x ki value -100 se 100 ke beech kahi bhi ho sakti hai.\n",
    "\n",
    "### Optimization Algorithm:\n",
    "Hyperopt mein kuch algorithms hote hain jo aapko optimization mein help karte hain, jaise tpe.suggest (Tree-structured Parzen Estimator).\n",
    "Yeh algorithms intelligent guesses lagate hain taaki aapko jaldi se jaldi best result mil sake.\n",
    "\n",
    "### fmin Function:\n",
    "fmin ek main function hai jo Hyperopt mein optimization process ko handle karta hai.\n",
    "Is function mein aap apna objective function, search space, aur optimization algorithm specify karte hain.\n"
   ]
  },
  {
   "cell_type": "code",
   "execution_count": 2,
   "metadata": {},
   "outputs": [],
   "source": [
    "import pandas as pd \n",
    "import numpy as np \n",
    "import matplotlib.pyplot as plt \n",
    "import seaborn as sns\n",
    "\n",
    "from hyperopt import fmin, tpe , hp "
   ]
  },
  {
   "cell_type": "markdown",
   "metadata": {},
   "source": [
    "### Defining Objective Function "
   ]
  },
  {
   "cell_type": "code",
   "execution_count": 5,
   "metadata": {},
   "outputs": [
    {
     "data": {
      "text/plain": [
       "8"
      ]
     },
     "execution_count": 5,
     "metadata": {},
     "output_type": "execute_result"
    }
   ],
   "source": [
    "def objective(x):\n",
    "    return np.square(x - 5) + 4 \n",
    "\n",
    "\n",
    "objective(3)"
   ]
  },
  {
   "cell_type": "markdown",
   "metadata": {},
   "source": [
    "Yeh function ek simple mathematical function hai. Iska kaam hai input x ke liye ek value calculate karna.\n",
    "\n",
    "Is function mein aapka goal hai x ki aisi value dhoondhna jisse yeh function ki value (output) minimum ho.\n",
    "Function ka formula hai: (x - 5)² + 4\n",
    "Example ke liye, agar x = 3 ho, to output hoga: (3 - 5)² + 4 = 4 + 4 = 8"
   ]
  },
  {
   "cell_type": "code",
   "execution_count": 12,
   "metadata": {},
   "outputs": [
    {
     "data": {
      "text/plain": [
       "<hyperopt.pyll.base.Apply at 0x70f1610b2260>"
      ]
     },
     "execution_count": 12,
     "metadata": {},
     "output_type": "execute_result"
    }
   ],
   "source": [
    "\n",
    "\n",
    "# hyperparameter space \n",
    "space =  hp.uniform('x',-100,100)\n",
    "\n",
    "\n",
    "\n",
    "space"
   ]
  },
  {
   "cell_type": "markdown",
   "metadata": {},
   "source": [
    "Yeh line batati hai ki x ki value kis range mein dhoondhi jayegi. Yahan x ka range -100 se 100 tak hai.\n",
    "\n",
    "hp.uniform('x', -100, 100) ka matlab hai ki x randomly -100 se 100 ke beech uniformly choose kiya jayega."
   ]
  },
  {
   "cell_type": "code",
   "execution_count": 15,
   "metadata": {},
   "outputs": [
    {
     "name": "stdout",
     "output_type": "stream",
     "text": [
      "  0%|          | 0/1000 [00:00<?, ?trial/s, best loss=?]"
     ]
    },
    {
     "name": "stdout",
     "output_type": "stream",
     "text": [
      "100%|██████████| 1000/1000 [00:02<00:00, 346.60trial/s, best loss: 4.000054185034662]\n"
     ]
    }
   ],
   "source": [
    "best = fmin(fn=objective,space=space,algo=tpe.suggest, max_evals= 1000)"
   ]
  },
  {
   "cell_type": "markdown",
   "metadata": {},
   "source": [
    "Is line mein, fmin function ka use kiya gaya hai best x value dhoondhne ke liye jo objective function ko minimize kare.\n",
    "\n",
    "fn=objective: Yeh batata hai ki kis function ko minimize karna hai.\n",
    "space=space: Yeh batata hai ki x ki value kis range mein dhoondhi jayegi.\n",
    "algo=tpe.suggest: Yeh algorithm ka naam hai jo search karega. tpe.suggest ek specific algorithm hai jo intelligent guesses lagata hai.\n",
    "max_evals=1000: Iska matlab hai ki algorithm maximum 1000 alag-alag values ko try karega best x value dhoondhne ke liye."
   ]
  },
  {
   "cell_type": "code",
   "execution_count": 16,
   "metadata": {},
   "outputs": [
    {
     "data": {
      "text/plain": [
       "{'x': 5.007361048475738}"
      ]
     },
     "execution_count": 16,
     "metadata": {},
     "output_type": "execute_result"
    }
   ],
   "source": [
    "best"
   ]
  },
  {
   "cell_type": "code",
   "execution_count": null,
   "metadata": {},
   "outputs": [],
   "source": []
  },
  {
   "cell_type": "code",
   "execution_count": null,
   "metadata": {},
   "outputs": [],
   "source": []
  },
  {
   "cell_type": "code",
   "execution_count": null,
   "metadata": {},
   "outputs": [],
   "source": []
  }
 ],
 "metadata": {
  "kernelspec": {
   "display_name": "base",
   "language": "python",
   "name": "python3"
  },
  "language_info": {
   "codemirror_mode": {
    "name": "ipython",
    "version": 3
   },
   "file_extension": ".py",
   "mimetype": "text/x-python",
   "name": "python",
   "nbconvert_exporter": "python",
   "pygments_lexer": "ipython3",
   "version": "3.10.12"
  }
 },
 "nbformat": 4,
 "nbformat_minor": 2
}
